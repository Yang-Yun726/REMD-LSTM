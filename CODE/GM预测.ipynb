{
 "cells": [
  {
   "cell_type": "code",
   "execution_count": 20,
   "metadata": {
    "ExecuteTime": {
     "end_time": "2020-06-08T01:11:30.913966Z",
     "start_time": "2020-06-08T01:11:30.901028Z"
    }
   },
   "outputs": [],
   "source": [
    "# -*- coding: utf-8 -*-\n",
    "import matplotlib.pyplot as plt\n",
    "import pandas as pd\n",
    "import numpy as np\n",
    "def GM11(x,n):\n",
    "    '''\n",
    "    灰色预测\n",
    "    x：序列，numpy对象\n",
    "    n:需要往后预测的个数\n",
    "    '''\n",
    "    x1 = x.cumsum()#一次累加  \n",
    "    z1 = (x1[:len(x1) - 1] + x1[1:])/2.0#紧邻均值  \n",
    "    z1 = z1.reshape((len(z1),1))  \n",
    "    B = np.append(-z1,np.ones_like(z1),axis=1)  \n",
    "    Y = x[1:].reshape((len(x) - 1,1))\n",
    "    #a为发展系数 b为灰色作用量\n",
    "    [[a],[b]] = np.dot(np.dot(np.linalg.inv(np.dot(B.T, B)), B.T), Y)#计算参数  \n",
    "    result = (x[0]-b/a)*np.exp(-a*(n-1))-(x[0]-b/a)*np.exp(-a*(n-2))  \n",
    "    S1_2 = x.var()#原序列方差\n",
    "    e = list()#残差序列\n",
    "    for index in range(1,x.shape[0]+1):\n",
    "        predict = (x[0]-b/a)*np.exp(-a*(index-1))-(x[0]-b/a)*np.exp(-a*(index-2))\n",
    "        e.append(x[index-1]-predict)\n",
    "    S2_2 = np.array(e).var()#残差方差\n",
    "    C = S2_2/S1_2#后验差比\n",
    "    if C<=0.35:\n",
    "        assess = '后验差比<=0.35，模型精度等级为好'\n",
    "    elif C<=0.5:\n",
    "\n",
    "        assess = '后验差比<=0.5，模型精度等级为合格'\n",
    "\n",
    "    elif C<=0.65:\n",
    "        assess = '后验差比<=0.65，模型精度等级为勉强'\n",
    "    else:\n",
    "        assess = '后验差比>0.65，模型精度等级为不合格'\n",
    "    #预测数据\n",
    "    predict = list()\n",
    "    for index in range(x.shape[0]+1,x.shape[0]+n+1):\n",
    "        predict.append((x[0]-b/a)*np.exp(-a*(index-1))-(x[0]-b/a)*np.exp(-a*(index-2)))\n",
    "    predict = np.array(predict)\n",
    "    return predict"
   ]
  },
  {
   "cell_type": "code",
   "execution_count": 38,
   "metadata": {
    "ExecuteTime": {
     "end_time": "2020-06-08T01:42:14.628890Z",
     "start_time": "2020-06-08T01:42:14.483152Z"
    }
   },
   "outputs": [],
   "source": [
    "import pandas as pd\n",
    "a0=pd.read_excel(r'C:\\Users\\stu\\Desktop\\RSDATA.xlsx').values\n",
    "m,n=a0.shape\n",
    "yuc=[]\n",
    "for i in range(n):\n",
    "    yu=[]\n",
    "    a1=a0[:,i]\n",
    "    x=a1[1800:1950]\n",
    "    y=a1[1950:2000]\n",
    "    yu= GM11(x,len(y))\n",
    "    yuc.append(yu)"
   ]
  },
  {
   "cell_type": "code",
   "execution_count": 39,
   "metadata": {
    "ExecuteTime": {
     "end_time": "2020-06-08T01:42:16.170478Z",
     "start_time": "2020-06-08T01:42:16.164495Z"
    }
   },
   "outputs": [
    {
     "name": "stdout",
     "output_type": "stream",
     "text": [
      "MSE =  617373.9982970725\n",
      "RMSE =  785.7315052211362\n",
      "MAE =  707.6680507469879\n"
     ]
    }
   ],
   "source": [
    "zs=np.array(a0[:,2])[1950:2000]\n",
    "yuce=yuc[2]\n",
    "error = []\n",
    "#print(zs,yuce)\n",
    "\n",
    "for i in range(len(zs)):\n",
    "    error.append(zs[i] -yuce[i])\n",
    "#print(\"Errors: \", error)\n",
    "#print(error)\n",
    "squaredError = []\n",
    "absError = []\n",
    "for val in error:    \n",
    "    squaredError.append(val * val)#target-prediction之差平方     \n",
    "    absError.append(abs(val))#误差绝对值  \n",
    "    #print(\"Square Error: \", squaredError)\n",
    "    #print(\"Absolute Value of Error: \", absError)    \n",
    "print(\"MSE = \", sum(squaredError) / len(squaredError))#均方误差MSE    \n",
    "from math import sqrt\n",
    "print(\"RMSE = \", sqrt(sum(squaredError) / len(squaredError)))#均方根误差RMSE\n",
    "print(\"MAE = \", sum(absError) / len(absError))#平均绝对误差MAE"
   ]
  },
  {
   "cell_type": "code",
   "execution_count": 6,
   "metadata": {
    "ExecuteTime": {
     "end_time": "2020-06-08T00:58:14.341396Z",
     "start_time": "2020-06-08T00:58:14.116908Z"
    }
   },
   "outputs": [],
   "source": [
    "import xlsxwriter   #导入模块\n",
    "\n",
    "workbook = xlsxwriter.Workbook('GM.xlsx')     #新建excel表\n",
    "worksheet= workbook.add_worksheet('sheet1')       #新建sheet（sheet的名称为\"sheet1\"）\n",
    "headings = ['cpu1','cpu2','load1','load2']     #设置表头\n",
    "worksheet.write_row('A1',headings)\n",
    "worksheet.write_column('A2',np.array(yuc[0]))\n",
    "worksheet.write_column('B2',np.array(yuc[1]))\n",
    "worksheet.write_column('C2',np.array(yuc[2])) \n",
    "worksheet.write_column('D2',np.array(yuc[3]))\n",
    "##worksheet.write_column('F2',np.array(yuc[5])) \n",
    "#将数据插入到表格中 \n",
    "workbook.close()          #将excel文件保存关闭，如果没有这一行运行代码会报错"
   ]
  },
  {
   "cell_type": "code",
   "execution_count": null,
   "metadata": {},
   "outputs": [],
   "source": []
  }
 ],
 "metadata": {
  "kernelspec": {
   "display_name": "Python 3",
   "language": "python",
   "name": "python3"
  },
  "language_info": {
   "codemirror_mode": {
    "name": "ipython",
    "version": 3
   },
   "file_extension": ".py",
   "mimetype": "text/x-python",
   "name": "python",
   "nbconvert_exporter": "python",
   "pygments_lexer": "ipython3",
   "version": "3.7.4"
  }
 },
 "nbformat": 4,
 "nbformat_minor": 2
}
